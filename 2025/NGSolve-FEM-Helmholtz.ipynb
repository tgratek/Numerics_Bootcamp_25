{
 "cells": [
  {
   "cell_type": "code",
   "execution_count": 270,
   "metadata": {},
   "outputs": [],
   "source": [
    "import numpy as np\n",
    "import ngsolve as ng\n",
    "import matplotlib.pyplot as plt\n",
    "from ngsolve.webgui import Draw\n",
    "from netgen.occ import Circle, OCCGeometry, Pnt, Segment, Wire, Face\n",
    "from ngsolve_special_functions import jv, hankel1"
   ]
  },
  {
   "cell_type": "markdown",
   "metadata": {},
   "source": [
    "## Helmholtz Problem\n",
    "\n",
    "We consider the boundary value problem:\n",
    "\n",
    "$$\n",
    "\\begin{cases}\n",
    "\\Delta u + k^2 u = 0 & \\text{in } \\Omega_N = B_N \\setminus \\Omega, \\\\\n",
    "u = f & \\text{on } \\Gamma = \\partial \\Omega, \\\\\n",
    "\\dfrac{\\partial u}{\\partial n} = g & \\text{on } S_N = \\partial B_N.\n",
    "\\end{cases}\n",
    "$$\n",
    "\n",
    "where\n",
    "\n",
    "$$\n",
    "B_N = \\{(x, y) \\in \\mathbb{R}^2 : x^2 + y^2 < r\\}, \\quad (r > 1),\n",
    "$$  \n",
    "\n",
    "and $\\Omega \\subset \\mathbb{R}^2$ is the polygonal domain with vertices\n",
    "\n",
    "$$\n",
    "(x_j, y_j) = r_j (\\cos \\theta_j, \\sin \\theta_j), \\quad \\theta_j = \\frac{2\\pi}{10}(j-2),\n",
    "$$  \n",
    "\n",
    "$$\n",
    "r_{2j-1} = 1, \\quad r_{2j} = \\tfrac{1}{2}, \\quad j = 1, \\ldots, 10.\n",
    "$$\n",
    "\n",
    "---\n",
    "\n",
    "### Variational Formulation\n",
    "\n",
    "We consider the space\n",
    "  $$\n",
    "  V := \\mathring H^1(\\Omega_N) = \\{\\, v \\in H^1(\\Omega_N) : \\gamma_\\Gamma v = 0 \\,\\}.\n",
    "  $$\n",
    "\n",
    "where $\\gamma_\\Gamma$ denotes the trace operator on $\\Gamma$. Next, we define \n",
    "$a: V \\times V \\mapsto \\mathbb{K}$ amd $\\ell: V \\mapsto \\mathbb{K}$\n",
    "\n",
    "$$\n",
    "a(u,v) := -\\int_{\\Omega_N} \\nabla u \\cdot \\nabla v \\, dx + k^2 \\int_{\\Omega_N} u\\,v \\, dx,\n",
    "$$\n",
    "\n",
    "$$\n",
    "\\ell(v) := -\\int_{S_N} g \\, \\gamma_{S_N} v \\, ds.\n",
    "$$\n",
    "\n",
    "This way, we obtain the variational formulation for the case of an homogeneous Dirichlet \n",
    "boundary condition over $\\Gamma$, i.e. when $f=0$: Find $u \\in V$ s.t.\n",
    "\n",
    "$$\n",
    "a(u,v) = \\ell(v) \\qquad \\forall v \\in V.\n",
    "$$\n",
    "\n",
    "Now, since we want allow the Dirichlet condition over $\\Gamma$ to be inhomogeneous, we \n",
    "introduce a **lifting**:\n",
    "\n",
    "* Choose a function $w \\in H^1(\\Omega_N)$ such that\n",
    "\n",
    "  $$\n",
    "  w|_\\Gamma = f.\n",
    "  $$\n",
    "\n",
    "* Set\n",
    "\n",
    "  $$\n",
    "  u = w + \\tilde{u}, \\qquad \\tilde{u} \\in V.\n",
    "  $$\n",
    "\n",
    "Substituting into the homogeneous variational formulation gives us the weak problem: \n",
    "Find $\\tilde{u} \\in V$ such that\n",
    "\n",
    "$$\n",
    "a(\\tilde{u}, v) = \\tilde \\ell(v) \\qquad \\forall v \\in V.\n",
    "$$\n",
    "\n",
    "where, \n",
    "\n",
    "$$\n",
    "\\tilde \\ell(v) := \\ell(v) - a(w, v) \\qquad \\forall v \\in V\n",
    "$$\n",
    "\n",
    "This way, we solve for $\\tilde u \\in V$, satisfying the homogeneous Dirichlet condition. Finally, \n",
    "we want to find a Galerkin approximation of $\\tilde u$, for this so, we let $V_h \\subset H^1(\\Omega_N)$ \n",
    "be the Lagrange FE space $V_h \\subset V$ of piecewise linear globally continuous functions. The weak \n",
    "problem no is to find $\\tilde{u}_h \\in V_h$, such that,\n",
    "\n",
    "$$\n",
    "a(\\tilde{u}_h, v) = \\tilde \\ell(v) \\qquad \\forall v \\in V_h.\n",
    "$$\n",
    "\n",
    "If $\\{\\phi_i\\}$ is the previously introduced hat functions basis for $V_h$, then the weak form is \n",
    "equivalent to the linear system:\n",
    "\n",
    "$$\n",
    "(-K + k^2 M)\\,\\mathbf{\\tilde{u}} = \\mathbf{\\tilde{b}},\n",
    "$$\n",
    "\n",
    "where,\n",
    "\n",
    "$$\n",
    "K_{ij} = \\int_{\\Omega_N} \\nabla \\phi_j \\cdot \\nabla \\phi_i \\, dx,\n",
    "$$\n",
    "\n",
    "$$\n",
    "M_{ij} = \\int_{\\Omega_N} \\phi_j \\, \\phi_i \\, dx,\n",
    "$$\n",
    "\n",
    "$$\n",
    "b_i = - \\int_{S_N} g \\, \\phi_i \\, ds.\n",
    "$$\n",
    "\n",
    "$$\n",
    "\\mathbf{\\tilde{b}} = \\mathbf{b} - (-K + k^2 M)\\,\\mathbf{w}\n",
    "$$\n",
    "\n",
    "and $\\mathbf{w}$ are the coefficients of the lifting $w \\in V$, usually chosen to vanish in the interior degrees of freedom.\n",
    "\n"
   ]
  },
  {
   "cell_type": "code",
   "execution_count": 271,
   "metadata": {},
   "outputs": [],
   "source": [
    "class HelmholtzNGSolveFEM:\n",
    "    \"\"\"\n",
    "    NGSolve-FEM solver for the Helmholtz equation on an annular domain\n",
    "    with Dirichlet BC on the inner polygon and Neumann BC on the outer circle.\n",
    "    \"\"\"\n",
    "\n",
    "    def __init__(self, R=5, N=10, h=0.1, k=1.0):\n",
    "        self.m = 1\n",
    "        self.R = R                                                         # Outer radius\n",
    "        self.N = N                                                         # Number of vertices for polygon\n",
    "        self.h = h                                                         # Target mesh size\n",
    "        self.k = k                                                         # Wavenumber\n",
    "        self.mesh = None                                                   # Will store mesh\n",
    "        self.solution = None                                               # Computed FEM solution\n",
    "        self.fes = None\n",
    "        self.f = hankel1(k * ng.sqrt(ng.x**2 + ng.y**2), 0)\n",
    "        self.g = -hankel1(k * R, 1)\n",
    "        self.u_exact = hankel1(k * ng.sqrt(ng.x**2 + ng.y**2), 0)\n",
    "\n",
    "    def generate_mesh(self, verbose=True):\n",
    "        \"\"\"Generate the mesh with Open Cascade and ngmesh.\"\"\"\n",
    "\n",
    "        disk = Circle((0,0), self.R).Face()\n",
    "        disk.edges[0].name='neumann'\n",
    "\n",
    "        tht = lambda j: (2*np.pi/self.N)*(j - 1/2)\n",
    "        r = lambda j: 1/2 if j % 2 == 0 else 1\n",
    "        self.vertices = [[r(j)*np.cos(tht(j)), r(j)*np.sin(tht(j))] for j in range(1, self.N + 1)]\n",
    "\n",
    "        # Dirichlet boundary (inner polygon)\n",
    "        dirichlet_points = [Pnt(v[0], v[1], 0) for v in self.vertices]\n",
    "        dirichlet_lines = []\n",
    "        for i in range(self.N):\n",
    "            dirichlet_lines.append(Segment(dirichlet_points[i], dirichlet_points[(i+1) % self.N]))\n",
    "        wirestar = Wire(dirichlet_lines)\n",
    "        solidstar = Face(wirestar)\n",
    "        for i in range(self.N): \n",
    "            solidstar.edges[i].name = 'dirichlet' \n",
    "\n",
    "        domain = disk - solidstar\n",
    "\n",
    "        g = OCCGeometry(domain, dim=2)\n",
    "        self.mesh = ng.Mesh(g.GenerateMesh(maxh=self.h))\n",
    "        if verbose:\n",
    "            Draw(self.mesh);\n",
    "    \n",
    "    def check_boundary_labeling(self, boundaryname):\n",
    "\n",
    "        thoret_perimeter = 0.0\n",
    "\n",
    "        if boundaryname == 'dirichlet':\n",
    "            for j in range(len(self.vertices)):\n",
    "                x1, y1 = self.vertices[j]\n",
    "                x2, y2 = self.vertices[(j+1) % len(self.vertices)]  # wrap around\n",
    "                thoret_perimeter += np.sqrt((x2 - x1)**2 + (y2 - y1)**2)\n",
    "            ngsolve_perimeter = ng.Integrate(1, self.mesh, definedon=self.mesh.Boundaries('dirichlet'))\n",
    "\n",
    "        elif boundaryname == 'neumann':\n",
    "            thoret_perimeter = 2 * self.R * np.pi\n",
    "            ngsolve_perimeter = ng.Integrate(1, self.mesh, definedon=self.mesh.Boundaries('neumann'))\n",
    "        else:\n",
    "            raise Exception(f'Label {boundaryname} is not defined, Please provide a valid bouondary label')\n",
    "\n",
    "        if abs(thoret_perimeter - ngsolve_perimeter) < 0.1:\n",
    "            print('Bounary label is congruent\\n')\n",
    "            print(f'Theoretical perimeter of boundary {boundaryname}: {thoret_perimeter}\\n')\n",
    "            print(f'NGSolve measure of boundary {boundaryname}: {ngsolve_perimeter}\\n')\n",
    "        else:\n",
    "            raise Exception('Theoretical perimeter of the boundary doesnt match NGSolve measure')\n",
    "\n",
    "    def instance_FESpace(self, p=1, complex=True, dirichlet_region=None):\n",
    "\n",
    "        if dirichlet_region is None:\n",
    "            self.fes = ng.H1(self.mesh, order=p, complex=complex)\n",
    "\n",
    "        else:\n",
    "            self.fes = ng.H1(self.mesh, order=p, dirichlet=dirichlet_region, complex=complex)\n",
    "\n",
    "    def assemble_system(self, neuman_region=None):\n",
    "        \"\"\"Assemble global mass, stiffness matrices and load vector for P1 FEM.\"\"\"\n",
    "\n",
    "        if self.fes is None:\n",
    "            raise Exception('Need to instance a Finite Element space first')\n",
    "\n",
    "        u, v = self.fes.TnT()\n",
    "\n",
    "        a = ng.BilinearForm(trialspace=self.fes, testspace=self.fes)\n",
    "        a += -ng.grad(u) * ng.grad(v) * ng.dx\n",
    "        a += self.k**2 * u * v * ng.dx\n",
    "        a.Assemble()\n",
    "\n",
    "        f = ng.LinearForm(self.fes)\n",
    "        if neuman_region is None:\n",
    "            f += 0 * v * ng.dx\n",
    "        else:\n",
    "            f += - self.g * v * ng.ds(definedon=self.mesh.Boundaries('neumann'))\n",
    "        f.Assemble()\n",
    "\n",
    "        return a.mat, f.vec\n",
    "\n",
    "    def solve(self, A, F, dirichlet_region=None):\n",
    "        \"\"\"Solve Helmholtz problem with Dirichlet + Neumann BC.\"\"\"\n",
    "\n",
    "        self.solution = ng.GridFunction(self.fes)\n",
    "\n",
    "        if dirichlet_region is None:\n",
    "            self.solution.vec.data = A.Inverse(freedofs=self.fes.FreeDofs()) * F\n",
    "\n",
    "        else:\n",
    "            self.solution.Set(self.f, ng.BND)\n",
    "            r = F - A * self.solution.vec\n",
    "            self.solution.vec.data += A.Inverse(freedofs=self.fes.FreeDofs()) * r\n",
    "\n",
    "        return self.solution\n",
    "\n",
    "    def compute_errors(self, sol=None, H1=False):\n",
    "        \"\"\"Compute L2 and H1 errors.\"\"\"\n",
    "\n",
    "        if sol is None:\n",
    "            error = self.solution - self.u_exact\n",
    "        else:\n",
    "            error = sol - self.u_exact\n",
    "        \n",
    "        L2_error = abs(ng.sqrt(ng.Integrate(ng.InnerProduct(error, error), self.mesh)))\n",
    "        \n",
    "        if H1:\n",
    "            fesaux = ng.H1(self.mesh, order=1, complex=True)\n",
    "            errorH1aux = ng.GridFunction(fesaux)\n",
    "            errorgf = ng.GridFunction(fesaux)\n",
    "            u, v = fesaux.TnT()\n",
    "            aH1 = ng.BilinearForm((ng.grad(u)*ng.grad(v) + u * v)*ng.dx).Assemble()\n",
    "            errorgf.Set(error)\n",
    "            errorH1aux.vec.data = aH1.mat * errorgf.vec\n",
    "            H1_error = abs(ng.sqrt(ng.Integrate(ng.InnerProduct(error, errorH1aux), self.mesh)))\n",
    "            return L2_error, H1_error\n",
    "\n",
    "        else:\n",
    "            return L2_error\n",
    "\n",
    "    def plot_mesh(self):\n",
    "        \"\"\"Plot mesh using netgen GUI facilities.\"\"\"\n",
    "        Draw(self.mesh)\n",
    "\n",
    "    def plot_solution(self, sol=None, plot_exact=False):\n",
    "        \"\"\"Plot FEM solution.\"\"\"\n",
    "\n",
    "        if (self.solution is None) or (sol is None):\n",
    "            raise Exception('Need to solve the problem before drawing approximation')\n",
    "        else:\n",
    "            if sol is None:\n",
    "                Draw(self.solution, self.mesh)\n",
    "            else:\n",
    "                Draw(sol, self.mesh)\n",
    "\n",
    "        if plot_exact:\n",
    "            Draw(self.u_exact, self.mesh)\n"
   ]
  },
  {
   "cell_type": "code",
   "execution_count": 272,
   "metadata": {},
   "outputs": [],
   "source": [
    "h = 0.1\n",
    "fem = HelmholtzNGSolveFEM(h=h)"
   ]
  },
  {
   "cell_type": "code",
   "execution_count": 273,
   "metadata": {},
   "outputs": [],
   "source": [
    "fem.generate_mesh(verbose=False)"
   ]
  },
  {
   "cell_type": "code",
   "execution_count": 274,
   "metadata": {},
   "outputs": [
    {
     "data": {
      "application/vnd.jupyter.widget-view+json": {
       "model_id": "aa950bf2873b4380a92ce6822a91c123",
       "version_major": 2,
       "version_minor": 0
      },
      "text/plain": [
       "WebGuiWidget(layout=Layout(height='500px', width='100%'), value={'gui_settings': {}, 'ngsolve_version': '6.2.2…"
      ]
     },
     "metadata": {},
     "output_type": "display_data"
    }
   ],
   "source": [
    "fem.plot_mesh()"
   ]
  },
  {
   "cell_type": "code",
   "execution_count": 275,
   "metadata": {},
   "outputs": [
    {
     "name": "stdout",
     "output_type": "stream",
     "text": [
      "Bounary label is congruent\n",
      "\n",
      "Theoretical perimeter of boundary dirichlet: 6.640655130520275\n",
      "\n",
      "NGSolve measure of boundary dirichlet: 6.640655130520263\n",
      "\n"
     ]
    }
   ],
   "source": [
    "fem.check_boundary_labeling('dirichlet')"
   ]
  },
  {
   "cell_type": "code",
   "execution_count": 276,
   "metadata": {},
   "outputs": [
    {
     "name": "stdout",
     "output_type": "stream",
     "text": [
      "Bounary label is congruent\n",
      "\n",
      "Theoretical perimeter of boundary neumann: 31.41592653589793\n",
      "\n",
      "NGSolve measure of boundary neumann: 31.415402408457002\n",
      "\n"
     ]
    }
   ],
   "source": [
    "fem.check_boundary_labeling('neumann')"
   ]
  },
  {
   "cell_type": "code",
   "execution_count": 277,
   "metadata": {},
   "outputs": [],
   "source": [
    "fem.instance_FESpace(p=2, complex=True, dirichlet_region='dirichlet')"
   ]
  },
  {
   "cell_type": "code",
   "execution_count": 278,
   "metadata": {},
   "outputs": [],
   "source": [
    "system_matrix, load_vec = fem.assemble_system(neuman_region='neumann')"
   ]
  },
  {
   "cell_type": "code",
   "execution_count": 279,
   "metadata": {},
   "outputs": [],
   "source": [
    "uh = fem.solve(A=system_matrix, F=load_vec, dirichlet_region='dirichlet')"
   ]
  },
  {
   "cell_type": "code",
   "execution_count": 280,
   "metadata": {},
   "outputs": [
    {
     "data": {
      "application/vnd.jupyter.widget-view+json": {
       "model_id": "54603e1d386e45619e262a835a86a8c5",
       "version_major": 2,
       "version_minor": 0
      },
      "text/plain": [
       "WebGuiWidget(layout=Layout(height='500px', width='100%'), value={'gui_settings': {'Complex': {'phase': 0.0, 's…"
      ]
     },
     "metadata": {},
     "output_type": "display_data"
    },
    {
     "data": {
      "application/vnd.jupyter.widget-view+json": {
       "model_id": "5e2155f7836f48d19915b8e62fcc22c1",
       "version_major": 2,
       "version_minor": 0
      },
      "text/plain": [
       "WebGuiWidget(layout=Layout(height='500px', width='100%'), value={'gui_settings': {'Complex': {'phase': 0.0, 's…"
      ]
     },
     "metadata": {},
     "output_type": "display_data"
    }
   ],
   "source": [
    "fem.plot_solution(sol=uh, plot_exact=True)"
   ]
  },
  {
   "cell_type": "code",
   "execution_count": 281,
   "metadata": {},
   "outputs": [],
   "source": [
    "L2_err, H1_err = fem.compute_errors(sol=uh, H1=True)"
   ]
  },
  {
   "cell_type": "code",
   "execution_count": 282,
   "metadata": {},
   "outputs": [
    {
     "data": {
      "text/plain": [
       "0.0013666635280574868"
      ]
     },
     "execution_count": 282,
     "metadata": {},
     "output_type": "execute_result"
    }
   ],
   "source": [
    "L2_err"
   ]
  },
  {
   "cell_type": "code",
   "execution_count": 283,
   "metadata": {},
   "outputs": [
    {
     "data": {
      "text/plain": [
       "0.00018733332010175842"
      ]
     },
     "execution_count": 283,
     "metadata": {},
     "output_type": "execute_result"
    }
   ],
   "source": [
    "H1_err"
   ]
  },
  {
   "cell_type": "code",
   "execution_count": 284,
   "metadata": {},
   "outputs": [
    {
     "name": "stdout",
     "output_type": "stream",
     "text": [
      "h = 0.50000 | L2 error = 2.046e-01, H1 error = 1.515e-01\n",
      "h = 0.25000 | L2 error = 6.784e-02, H1 error = 2.393e-02\n",
      "h = 0.10000 | L2 error = 1.121e-02, H1 error = 1.624e-03\n",
      "h = 0.05000 | L2 error = 2.734e-03, H1 error = 2.134e-04\n"
     ]
    },
    {
     "data": {
      "image/png": "[encoded data removed]",
      "text/plain": [
       "<Figure size 1600x800 with 1 Axes>"
      ]
     },
     "metadata": {},
     "output_type": "display_data"
    }
   ],
   "source": [
    "L2_errors = []\n",
    "H1_errors = []\n",
    "hs = []\n",
    "\n",
    "for h in [0.5, 0.25, 0.1, 0.05]:  # refinement loop\n",
    "    fem = HelmholtzNGSolveFEM(h=h)\n",
    "    fem.generate_mesh(verbose=False)\n",
    "    fem.instance_FESpace(p=1, complex=True, dirichlet_region='dirichlet')\n",
    "    system_matrix, load_vec = fem.assemble_system(neuman_region='neumann')\n",
    "    uh = fem.solve(A=system_matrix, F=load_vec, dirichlet_region='dirichlet')\n",
    "    L2_err, H1_err = fem.compute_errors(sol=uh, H1=True)\n",
    "    L2_errors.append(L2_err)\n",
    "    H1_errors.append(H1_err)\n",
    "    hs.append(h)\n",
    "    print(f\"h = {h:.5f} | L2 error = {L2_err:.3e}, H1 error = {H1_err:.3e}\")\n",
    "\n",
    "# Plot convergence\n",
    "plt.figure(figsize=(16,8))\n",
    "plt.loglog(hs, L2_errors, '-o', label='L2 error')\n",
    "plt.loglog(hs, H1_errors, '-o', label='H1 error')\n",
    "\n",
    "# Fit slopes\n",
    "p_L2 = np.polyfit(np.log(hs), np.log(L2_errors), 1)[0]\n",
    "p_H1 = np.polyfit(np.log(hs), np.log(H1_errors), 1)[0]\n",
    "plt.legend()\n",
    "plt.xlabel(\"h\")\n",
    "plt.ylabel(\"Error\")\n",
    "plt.title(f\"Convergence rates: L2 ~ {p_L2:.2f}, H1 ~ {p_H1:.2f}\")\n",
    "plt.grid(True)\n",
    "plt.show()\n"
   ]
  }
 ],
 "metadata": {
  "kernelspec": {
   "display_name": ".venv",
   "language": "python",
   "name": "python3"
  },
  "language_info": {
   "codemirror_mode": {
    "name": "ipython",
    "version": 3
   },
   "file_extension": ".py",
   "mimetype": "text/x-python",
   "name": "python",
   "nbconvert_exporter": "python",
   "pygments_lexer": "ipython3",
   "version": "3.10.12"
  }
 },
 "nbformat": 4,
 "nbformat_minor": 2
}
